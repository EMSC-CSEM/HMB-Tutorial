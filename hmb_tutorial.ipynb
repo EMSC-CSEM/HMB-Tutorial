{
 "cells": [
  {
   "cell_type": "markdown",
   "metadata": {},
   "source": [
    "# Using hmb_messaging python module\n",
    "\n",
    "The HMB protocol has been developped by GFZ/GEOFON for the sharing of seismological data in real time, although the protocol actually makes no particular requirements on the type of data that it transmits. This module is a client library for the python language which:\n",
    "* handles opening sessions on the HMB server.\n",
    "* reconnecting automatically in the event of connection error.\n",
    "* sending messages in the correct format.\n",
    "* receiving streams of messages from the server.\n",
    "* can handle messages in both the json and bson formats.\n",
    "* ...\n",
    "\n",
    "HMB uses a publish-subscribe pattern. A central server contains several '**buses**' which each contain many '**queues**'. Messages are published to a particular **queue** - which are created dynamically as needed. Clients chose a **bus** but can suscribe to multiple **queues** and optionally filter the messages within each **queue**. \n",
    "\n",
    "Each message in a **queue** has a sequence number, this enables clients to sporadically connect to the server to retreive messages without missing any messages, or to retrieve older messages which are cached on the server.\n",
    "\n",
    "Here is an example of using the library that returns the last 4 messages on the SYSTEM_ALERT **queue** on the MTtest_rule1 **bus**."
   ]
  },
  {
   "cell_type": "code",
   "execution_count": 1,
   "metadata": {
    "collapsed": true
   },
   "outputs": [],
   "source": [
    "from IPython.display import display"
   ]
  },
  {
   "cell_type": "code",
   "execution_count": 2,
   "metadata": {
    "collapsed": true
   },
   "outputs": [],
   "source": [
    "#import hmb_messaging as hmb\n",
    "import Traffic_Rob4.traffic.lib.hmb_messaging as hmb"
   ]
  },
  {
   "cell_type": "code",
   "execution_count": 3,
   "metadata": {
    "collapsed": false
   },
   "outputs": [
    {
     "name": "stderr",
     "output_type": "stream",
     "text": [
      "2018-10-09 07:40:19,309 - INFO - hmb_messaging.60063 - hmbsession opened, sid=AAV3xtl4DE5KM-YZ, cid=-5qVa_B1wiRJMIDe\n",
      "2018-10-09 07:40:19,312 - INFO - hmb_messaging.60063 - hmbsession parameters are: {'queue': {'SYSTEM_ALERT': {'seq': 1047, 'keep': True}}, 'cid': u'-5qVa_B1wiRJMIDe'}\n"
     ]
    },
    {
     "name": "stdout",
     "output_type": "stream",
     "text": [
      "{u'queue': u'SYSTEM_ALERT', u'data': '...', u'type': u'SYSTEM_ALERT', u'sender': u'm75Ofx33WWC89c9U', u'seq': 1047}\n",
      "{u'queue': u'SYSTEM_ALERT', u'data': '...', u'type': u'SYSTEM_ALERT', u'sender': u'nfdJqi2y5PV88Q_G', u'seq': 1048}\n",
      "{u'queue': u'SYSTEM_ALERT', u'data': '...', u'type': u'SYSTEM_ALERT', u'sender': u'mY9mlFG4xF1TjdJz', u'seq': 1049}\n",
      "{u'queue': u'SYSTEM_ALERT', u'data': '...', u'type': u'SYSTEM_ALERT', u'sender': u'RCSWw4HvJDrYlOJp', u'seq': 1050}\n"
     ]
    }
   ],
   "source": [
    "# Choose here the bus to subsribe:\n",
    "#hmbbus='http://cerf.emsc-csem.org:80/MTtest_rule0' # CLOSEST\n",
    "hmbbus='http://cerf.emsc-csem.org:80/MTtest_rule1' # FASTER\n",
    "#hmbbus='http://cerf.emsc-csem.org:80/MTtest_rule2' # STRONGEST\n",
    "#hmbbus='http://cerf.emsc-csem.org:80/MTtest_rule3' # HIGHEST\n",
    "\n",
    "hmbparam = {\n",
    "        'queue': {\n",
    "            'SYSTEM_ALERT': { #choose queue to listen on\n",
    "                    'seq': -5,  #choose message to start at.\n",
    "                    'keep': True  #make request blocking\n",
    "                    }\n",
    "            }\n",
    "        }\n",
    "#each message in the queue has a sequence number. Setting:\n",
    "#seq = -1 => start with next new message\n",
    "#seq = -2 => start with most recent message\n",
    "#seq = -3 => start with message before the last message.\n",
    "#...\n",
    "#seq = 10 => start with the 10th message in the queue\n",
    "\n",
    "hmbconn = hmb.Hmbsession(url=hmbbus, param=hmbparam, use_bson=False)\n",
    "\n",
    "msgs = hmbconn.recv()\n",
    "for msg in msgs:\n",
    "    msg['data'] = '...'\n",
    "    print msg"
   ]
  },
  {
   "cell_type": "markdown",
   "metadata": {},
   "source": [
    "Using `'keep': True` means that the `hmbconn.recv()` function call will pause until there is at least one message (or heartbeat) received. Otherwise `'keep': False` means that the call will immediately return if there are no new messages - which can be useful if the process has other things to do while waiting for the next hmb message.\n",
    "\n",
    "Now a more advance example:"
   ]
  },
  {
   "cell_type": "code",
   "execution_count": 4,
   "metadata": {
    "collapsed": false
   },
   "outputs": [
    {
     "name": "stderr",
     "output_type": "stream",
     "text": [
      "2018-10-09 07:40:19,390 - INFO - hmb_messaging.60063 - hmbsession opened, sid=AAV3xtl5TF2tjIU1, cid=-DAPt-XLxWqrr8FK\n",
      "2018-10-09 07:40:19,393 - INFO - hmb_messaging.60063 - hmbsession parameters are: {'queue': {'SYSTEM_ALERT': {'topics': ['*'], 'seq': 1050L, 'keep': True}}, 'heartbeat': 10, 'cid': u'-DAPt-XLxWqrr8FK'}\n"
     ]
    },
    {
     "name": "stdout",
     "output_type": "stream",
     "text": [
      "{u'queue': u'SYSTEM_ALERT', u'data': '...', u'type': u'SYSTEM_ALERT', u'sender': u'RCSWw4HvJDrYlOJp', u'seq': 1050L}\n"
     ]
    }
   ],
   "source": [
    "# Choose here the bus to subsribe:\n",
    "#hmbbus='http://cerf.emsc-csem.org:80/MTtest_rule0' # CLOSEST\n",
    "hmbbus='http://cerf.emsc-csem.org:80/MTtest_rule1' # FASTER\n",
    "#hmbbus='http://cerf.emsc-csem.org:80/MTtest_rule2' # STRONGEST\n",
    "#hmbbus='http://cerf.emsc-csem.org:80/MTtest_rule3' # HIGHEST\n",
    "\n",
    "hmbparam = {\n",
    "        'heartbeat': 10, #sec\n",
    "        'queue': {\n",
    "            'SYSTEM_ALERT': { #choose queue to listen on\n",
    "                    'seq': -2,  #choose message to start at.\n",
    "                    'keep': True,  #make request blocking\n",
    "                    'topics':  ['*'],  #filter messages using the optional topic field - pattern accepts wildcards\n",
    "                    #'filter': ,\n",
    "                    }\n",
    "            }\n",
    "        }\n",
    "\n",
    "hmbconn = hmb.Hmbsession(url=hmbbus, param=hmbparam, use_bson=True, retry_wait=2, timeout=(6.05,11), autocreate_queues=True)\n",
    "#setup timeouts just longer than the heartbeat rate\n",
    "#set a delay between retries\n",
    "\n",
    "i = 0\n",
    "limit = 1\n",
    "while True:\n",
    "    msgs = hmbconn.recv(retries=10)\n",
    "    #the method will retry in the event of an error or timeout by reopening a\n",
    "    #new connection to the server and trying again.\n",
    "\n",
    "    #nb. msgs might be empty due to eliminated heartbeat messages\n",
    "    if len(msgs) == 0: print 'heartbeat'\n",
    "    \n",
    "    for msg in msgs:\n",
    "        msg['data'] = '...'\n",
    "        print msg\n",
    "    \n",
    "    #limiter\n",
    "    i += len(msgs)\n",
    "    if i >= limit: break"
   ]
  },
  {
   "cell_type": "markdown",
   "metadata": {},
   "source": [
    "This example uses a 10s heartbeat to make sure that the connection has not died -this is configured in the `hmbparam` dictionary. Also in `hmbparam`, the `'topics'` field shows where we would put a list of message topics to select from that particular queue and the `'filter'` field uses a mongodb style message filter. See the hmb documentation for details on these and other filtering options.\n",
    "\n",
    "We have also configured timeouts on the underlying http connection using the timeout parameter of the `Hmbsession` init - extra parameters like this are passed directly to the `requests` library (see http://docs.python-requests.org/en/master/user/advanced/#timeouts). In this case, we have a 6.05 second connection timeout and an 11 second timeout on reading data.\n",
    "\n",
    "This example uses bson to transfer messages from the server to the client. Messages are automatically transformed into a sequence of dictionaries by the `Hmbsession` object.\n",
    "\n",
    "When we receive messages from the connection in this case, we have requested to make 10 attempts to connect to the hmb server. We have also requested for a 2s pause between retries (the `retry_wait` parameter of the `Hmbsession` init).\n",
    "\n",
    "Lastly, this listener uses the `autocreate_queues` option to create the queue if it is missing, otherwise an error would be raised on each attempt of the client to connect to the server until the queue was created by another process.\n",
    "\n",
    "We can get information on the hmb server:"
   ]
  },
  {
   "cell_type": "code",
   "execution_count": 11,
   "metadata": {
    "collapsed": false,
    "scrolled": false
   },
   "outputs": [
    {
     "data": {
      "text/plain": [
       "{u'queue': {u'ANNOUNCEMENT': {u'endseq': 3,\n",
       "   u'endtime': None,\n",
       "   u'startseq': 0,\n",
       "   u'starttime': None,\n",
       "   u'topic': {u'': {u'endtime': None, u'starttime': None}}},\n",
       "  u'SYSTEM_ALERT': {u'endseq': 1051,\n",
       "   u'endtime': None,\n",
       "   u'startseq': 951,\n",
       "   u'starttime': None,\n",
       "   u'topic': {u'': {u'endtime': None, u'starttime': None}}},\n",
       "  u'SYSTEM_ALERT100': {u'endseq': 1,\n",
       "   u'endtime': None,\n",
       "   u'startseq': 0,\n",
       "   u'starttime': None,\n",
       "   u'topic': {u'': {u'endtime': None, u'starttime': None}}},\n",
       "  u'myqueue': {u'endseq': 1,\n",
       "   u'endtime': None,\n",
       "   u'startseq': 0,\n",
       "   u'starttime': None,\n",
       "   u'topic': {u'': {u'endtime': None, u'starttime': None}}}}}"
      ]
     },
     "metadata": {},
     "output_type": "display_data"
    },
    {
     "data": {
      "text/plain": [
       "{u'capabilities': [u'JSON',\n",
       "  u'BSON',\n",
       "  u'INFO',\n",
       "  u'STREAM',\n",
       "  u'WINDOW',\n",
       "  u'FILTER',\n",
       "  u'OOD'],\n",
       " u'functions': [],\n",
       " u'software': u'httpmsgbus v0.16 (2017.119)'}"
      ]
     },
     "metadata": {},
     "output_type": "display_data"
    },
    {
     "data": {
      "text/plain": [
       "{u'session': {}}"
      ]
     },
     "metadata": {},
     "output_type": "display_data"
    }
   ],
   "source": [
    "display(hmbconn.info())\n",
    "display(hmbconn.features())\n",
    "display(hmbconn.status())"
   ]
  },
  {
   "cell_type": "markdown",
   "metadata": {},
   "source": [
    "Here is an example of searching for particular hmb messages:"
   ]
  },
  {
   "cell_type": "code",
   "execution_count": 8,
   "metadata": {
    "collapsed": false
   },
   "outputs": [
    {
     "name": "stderr",
     "output_type": "stream",
     "text": [
      "2018-10-09 07:45:07,900 - INFO - hmb_messaging.60063 - hmbsession opened, sid=AAV3xuqrlAeNAbb1, cid=aRcbW2rTJnKBtHVz\n",
      "2018-10-09 07:45:07,902 - INFO - hmb_messaging.60063 - hmbsession parameters are: {'queue': {'SYSTEM_ALERT': {'endseq': -10, 'topics': ['*'], 'seq': 1027, 'keep': False}}, 'cid': u'aRcbW2rTJnKBtHVz'}\n"
     ]
    },
    {
     "name": "stdout",
     "output_type": "stream",
     "text": [
      "{u'queue': u'SYSTEM_ALERT', u'data': '...', u'type': u'SYSTEM_ALERT', u'sender': u'mM4dXzAeNnNzGvG5', u'seq': 1027}\n",
      "{u'queue': u'SYSTEM_ALERT', u'data': '...', u'type': u'SYSTEM_ALERT', u'sender': u'5Dk48BFexiT4zF7x', u'seq': 1028}\n",
      "{u'queue': u'SYSTEM_ALERT', u'data': '...', u'type': u'SYSTEM_ALERT', u'sender': u'C_Cdl0x003AH7b3o', u'seq': 1029}\n",
      "{u'queue': u'SYSTEM_ALERT', u'data': '...', u'type': u'SYSTEM_ALERT', u'sender': u'OZLcgR87IEo8v4qW', u'seq': 1030}\n",
      "{u'queue': u'SYSTEM_ALERT', u'data': '...', u'type': u'SYSTEM_ALERT', u'sender': u'GSUoWHQX96MWfPOh', u'seq': 1031}\n",
      "{u'queue': u'SYSTEM_ALERT', u'data': '...', u'type': u'SYSTEM_ALERT', u'sender': u'gClL8_XbfmW0B5A8', u'seq': 1032}\n",
      "{u'queue': u'SYSTEM_ALERT', u'data': '...', u'type': u'SYSTEM_ALERT', u'sender': u'MF5KocqtgPHs2DcI', u'seq': 1033}\n",
      "{u'queue': u'SYSTEM_ALERT', u'data': '...', u'type': u'SYSTEM_ALERT', u'sender': u'JmINGf3w31G7rroD', u'seq': 1034}\n",
      "{u'queue': u'SYSTEM_ALERT', u'data': '...', u'type': u'SYSTEM_ALERT', u'sender': u'Uk8GCUwnPDt4_Bns', u'seq': 1035}\n",
      "{u'queue': u'SYSTEM_ALERT', u'data': '...', u'type': u'SYSTEM_ALERT', u'sender': u'a-0ttzkI5nR92CPi', u'seq': 1036}\n",
      "{u'queue': u'SYSTEM_ALERT', u'data': '...', u'type': u'SYSTEM_ALERT', u'sender': u'JNj08ArXSBpkOiq_', u'seq': 1037}\n",
      "{u'queue': u'SYSTEM_ALERT', u'data': '...', u'type': u'SYSTEM_ALERT', u'sender': u'zY-cjj5cC4TGWVcE', u'seq': 1038}\n",
      "{u'queue': u'SYSTEM_ALERT', u'data': '...', u'type': u'SYSTEM_ALERT', u'sender': u'_ahLK-vupv3qtMHn', u'seq': 1039}\n",
      "{u'queue': u'SYSTEM_ALERT', u'data': '...', u'type': u'SYSTEM_ALERT', u'sender': u'lwEh9MufMriiUnwc', u'seq': 1040}\n",
      "{u'queue': u'SYSTEM_ALERT', u'data': '...', u'type': u'SYSTEM_ALERT', u'sender': u'ptExT7YfuCfhtXSh', u'seq': 1041}\n",
      "{u'queue': u'SYSTEM_ALERT', u'data': '...', u'type': u'SYSTEM_ALERT', u'sender': u'T9oNBTfVuhQK2FwC', u'seq': 1042}\n",
      "{u'queue': u'SYSTEM_ALERT', u'data': '...', u'type': u'SYSTEM_ALERT', u'sender': u'C3sjm25QU4-xhDyn', u'seq': 1043}\n",
      "{u'queue': u'SYSTEM_ALERT', u'data': '...', u'type': u'SYSTEM_ALERT', u'sender': u'QqT_hWgLsHtHCa52', u'seq': 1044}\n",
      "{u'queue': u'SYSTEM_ALERT', u'data': '...', u'type': u'SYSTEM_ALERT', u'sender': u'7bIxETzSqoZENqZb', u'seq': 1045}\n",
      "{u'queue': u'SYSTEM_ALERT', u'data': '...', u'type': u'SYSTEM_ALERT', u'sender': u'ko8jqwUgIQfPn2_u', u'seq': 1046}\n",
      "{u'queue': u'SYSTEM_ALERT', u'data': '...', u'type': u'SYSTEM_ALERT', u'sender': u'm75Ofx33WWC89c9U', u'seq': 1047}\n",
      "{u'queue': u'SYSTEM_ALERT', u'data': '...', u'type': u'SYSTEM_ALERT', u'sender': u'nfdJqi2y5PV88Q_G', u'seq': 1048}\n",
      "{u'queue': u'SYSTEM_ALERT', u'data': '...', u'type': u'SYSTEM_ALERT', u'sender': u'mY9mlFG4xF1TjdJz', u'seq': 1049}\n",
      "{u'queue': u'SYSTEM_ALERT', u'data': '...', u'type': u'SYSTEM_ALERT', u'sender': u'RCSWw4HvJDrYlOJp', u'seq': 1050}\n"
     ]
    }
   ],
   "source": [
    "# Choose here the bus to subsribe:\n",
    "#hmbbus='http://cerf.emsc-csem.org:80/MTtest_rule0' # CLOSEST\n",
    "hmbbus='http://cerf.emsc-csem.org:80/MTtest_rule1' # FASTER\n",
    "#hmbbus='http://cerf.emsc-csem.org:80/MTtest_rule2' # STRONGEST\n",
    "#hmbbus='http://cerf.emsc-csem.org:80/MTtest_rule3' # HIGHEST\n",
    "\n",
    "hmbparam = {\n",
    "        'queue': {\n",
    "            'SYSTEM_ALERT': { #choose queue to listen on\n",
    "                    'seq': -25,  #choose message to start at.\n",
    "                    'endseq': -10,  #choose message to end at\n",
    "                    'keep': False,  #make request blocking\n",
    "                    'topics': ['*']  #filter messages using the optional topic field - pattern accepts wildcards                \n",
    "                    }\n",
    "            }\n",
    "        }\n",
    "\n",
    "hmbconn = hmb.Hmbsession(url=hmbbus, param=hmbparam, use_bson=False)\n",
    "\n",
    "# Note that if we request many messages from the server then we might not recieve them all with one call to recv() \n",
    "# and so we should be prepared to call recv() as many times as necessary in order to get all of the messages. When\n",
    "# we have received all of the messages we will see an EOF message.\n",
    "\n",
    "# The method recv_all() handles this for us (it should only be used when 'keep'==False):\n",
    "msgs = hmbconn.recv_all()\n",
    "for msg in msgs:\n",
    "    msg['data'] = '...'\n",
    "    print msg\n"
   ]
  },
  {
   "cell_type": "markdown",
   "metadata": {},
   "source": [
    "Next, let's see how to send hmb messages. The messages should be python dictionaries and need to contain at least the `'type'`, `'queue'` and `'data'` fields to be accepted by the hmb server. They can also contain `'topic'`, `'starttime'`  and `'endtime'` fields (it is unclear what is the format of time fields but it appears to require epoch time format here and isoformat strings when providing search parameters). It is also possible to send messages out of order (if the hmbserver supports the OOD capability) in which case an integer `'seq'` field should be defined.\n",
    "\n",
    "The method `send_msg()` creates a message in the correct format. If more control is required or to send multiple messages simultaneously, the lower level `send msg()` method can be used."
   ]
  },
  {
   "cell_type": "code",
   "execution_count": 10,
   "metadata": {
    "collapsed": false
   },
   "outputs": [
    {
     "name": "stderr",
     "output_type": "stream",
     "text": [
      "2018-10-09 08:19:58,741 - INFO - hmb_messaging.60063 - hmbsession opened, sid=AAV3x2dLT63W8nVM, cid=aRcbW2rTJnKBtHVz\n",
      "2018-10-09 08:19:58,743 - INFO - hmb_messaging.60063 - hmbsession parameters are: {'queue': {'SYSTEM_ALERT': {'endseq': -10, 'topics': ['*'], 'seq': 1051, 'keep': False}}, 'cid': u'aRcbW2rTJnKBtHVz'}\n"
     ]
    }
   ],
   "source": [
    "hmbconn.send_msg(\n",
    "            mtype = 'TEST',  #the message types are just strings, possible values depend upon the application.\n",
    "            queue = 'myqueue',  #queues are created as needed ie. as soon as a message is sent to them.\n",
    "            data  = {'field1':'value1','msg':'this is a test'},  #anything the json/bson can encode\n",
    "            topic = None,  #an optional field that can be used by listeners to filter messages.\n",
    "            retries = 1,\n",
    "            )"
   ]
  },
  {
   "cell_type": "markdown",
   "metadata": {},
   "source": [
    "### dependencies\n",
    "hmb_messaging relies on the following python packages (beyond those in the standard library)\n",
    "* requests\n",
    "* pymongo (for the bson module)\n"
   ]
  }
 ],
 "metadata": {
  "anaconda-cloud": {},
  "kernelspec": {
   "display_name": "Python [conda env:py2test]",
   "language": "python",
   "name": "conda-env-py2test-py"
  },
  "language_info": {
   "codemirror_mode": {
    "name": "ipython",
    "version": 2
   },
   "file_extension": ".py",
   "mimetype": "text/x-python",
   "name": "python",
   "nbconvert_exporter": "python",
   "pygments_lexer": "ipython2",
   "version": "2.7.12"
  },
  "toc": {
   "nav_menu": {},
   "number_sections": true,
   "sideBar": true,
   "skip_h1_title": false,
   "toc_cell": false,
   "toc_position": {},
   "toc_section_display": "block",
   "toc_window_display": false
  }
 },
 "nbformat": 4,
 "nbformat_minor": 2
}
